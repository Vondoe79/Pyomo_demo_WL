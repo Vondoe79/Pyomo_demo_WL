{
 "cells": [
  {
   "cell_type": "code",
   "execution_count": 1,
   "outputs": [],
   "source": [
    "# concreteModel version of warehouse location problem\n",
    "import pyomo.environ as pyo\n",
    "\n",
    "\n",
    "def create_warehouse_model(N, M, d, P):\n",
    "    model = pyo.ConcreteModel(name=\"(WL)\")\n",
    "\n",
    "    model.x = pyo.Var(N, M, bounds=(0, 1))\n",
    "    model.y = pyo.Var(N, within=pyo.Binary)\n",
    "\n",
    "    # WL.1 equation\n",
    "    def obj_rule(mdl):\n",
    "        return sum(d[n, m] * mdl.x[n, m] for n in N for m in M)\n",
    "\n",
    "    model.obj = pyo.Objective(rule=obj_rule)\n",
    "\n",
    "    # WL.2 equation\n",
    "    def demand_rule(mdl, m):\n",
    "        return sum(mdl.x[n, m] for n in N) == 1\n",
    "\n",
    "    model.demand = pyo.Constraint(M, rule=demand_rule)\n",
    "\n",
    "    # WL.3 equation\n",
    "    def warehouse_active_rule(mdl, n, m):\n",
    "        return mdl.x[n, m] <= mdl.y[n]\n",
    "\n",
    "    model.warehouse_active = pyo.Constraint(N, M, rule=warehouse_active_rule)\n",
    "\n",
    "    # WL.4 equation\n",
    "    def num_warehouses_rule(mdl):\n",
    "        return sum(mdl.y[n] for n in N) <= P\n",
    "\n",
    "    model.num_warehouses = pyo.Constraint(rule=num_warehouses_rule)\n",
    "\n",
    "    return model\n",
    "\n",
    "\n",
    "breaking_point = 0"
   ],
   "metadata": {
    "collapsed": false,
    "pycharm": {
     "name": "#%%\n"
    }
   }
  },
  {
   "cell_type": "code",
   "execution_count": 2,
   "outputs": [],
   "source": [
    "# below could be changed to main.py"
   ],
   "metadata": {
    "collapsed": false,
    "pycharm": {
     "name": "#%%\n"
    }
   }
  },
  {
   "cell_type": "code",
   "execution_count": 3,
   "outputs": [
    {
     "name": "stdout",
     "output_type": "stream",
     "text": [
      "Model '(WL)'\n",
      "\n",
      "  Variables:\n",
      "    x : Size=12, Index=x_index\n",
      "        Key                      : Lower : Value : Upper : Fixed : Stale : Domain\n",
      "          ('Ashland', 'Chicago') :     0 :   1.0 :     1 : False : False :  Reals\n",
      "          ('Ashland', 'Houston') :     0 :   0.0 :     1 : False : False :  Reals\n",
      "               ('Ashland', 'LA') :     0 :   0.0 :     1 : False : False :  Reals\n",
      "              ('Ashland', 'NYC') :     0 :   1.0 :     1 : False : False :  Reals\n",
      "        ('Harlingen', 'Chicago') :     0 :   0.0 :     1 : False : False :  Reals\n",
      "        ('Harlingen', 'Houston') :     0 :   1.0 :     1 : False : False :  Reals\n",
      "             ('Harlingen', 'LA') :     0 :   1.0 :     1 : False : False :  Reals\n",
      "            ('Harlingen', 'NYC') :     0 :   0.0 :     1 : False : False :  Reals\n",
      "          ('Memphis', 'Chicago') :     0 :   0.0 :     1 : False : False :  Reals\n",
      "          ('Memphis', 'Houston') :     0 :   0.0 :     1 : False : False :  Reals\n",
      "               ('Memphis', 'LA') :     0 :   0.0 :     1 : False : False :  Reals\n",
      "              ('Memphis', 'NYC') :     0 :   0.0 :     1 : False : False :  Reals\n",
      "    y : Size=3, Index=y_index\n",
      "        Key       : Lower : Value : Upper : Fixed : Stale : Domain\n",
      "          Ashland :     0 :   1.0 :     1 : False : False : Binary\n",
      "        Harlingen :     0 :   1.0 :     1 : False : False : Binary\n",
      "          Memphis :     0 :   0.0 :     1 : False : False : Binary\n",
      "\n",
      "  Objectives:\n",
      "    obj : Size=1, Index=None, Active=True\n",
      "        Key  : Active : Value\n",
      "        None :   True : 2745.0\n",
      "\n",
      "  Constraints:\n",
      "    demand : Size=4\n",
      "        Key     : Lower : Body : Upper\n",
      "        Chicago :   1.0 :  1.0 :   1.0\n",
      "        Houston :   1.0 :  1.0 :   1.0\n",
      "             LA :   1.0 :  1.0 :   1.0\n",
      "            NYC :   1.0 :  1.0 :   1.0\n",
      "    warehouse_active : Size=12\n",
      "        Key                      : Lower : Body : Upper\n",
      "          ('Ashland', 'Chicago') :  None :  0.0 :   0.0\n",
      "          ('Ashland', 'Houston') :  None : -1.0 :   0.0\n",
      "               ('Ashland', 'LA') :  None : -1.0 :   0.0\n",
      "              ('Ashland', 'NYC') :  None :  0.0 :   0.0\n",
      "        ('Harlingen', 'Chicago') :  None : -1.0 :   0.0\n",
      "        ('Harlingen', 'Houston') :  None :  0.0 :   0.0\n",
      "             ('Harlingen', 'LA') :  None :  0.0 :   0.0\n",
      "            ('Harlingen', 'NYC') :  None : -1.0 :   0.0\n",
      "          ('Memphis', 'Chicago') :  None :  0.0 :   0.0\n",
      "          ('Memphis', 'Houston') :  None :  0.0 :   0.0\n",
      "               ('Memphis', 'LA') :  None :  0.0 :   0.0\n",
      "              ('Memphis', 'NYC') :  None :  0.0 :   0.0\n",
      "    num_warehouses : Size=1\n",
      "        Key  : Lower : Body : Upper\n",
      "        None :  None :  2.0 :   2.0\n"
     ]
    }
   ],
   "source": [
    "# Solve an instance of the WL problem\n",
    "# Import Pyomo environment and model\n",
    "import os\n",
    "import pandas as pd\n",
    "import pyomo.environ as pyo\n",
    "\n",
    "os.environ['NEOS_EMAIL'] = 'hadjavo1@binghamton.edu'\n",
    "\n",
    "\n",
    "# Establish the data for this model (this could also be\n",
    "# imported using other Python packages)\n",
    "\n",
    "# TODO - spin - read a data file\n",
    "def cost_2_wcl(fpath):\n",
    "    df = pd.read_excel(fpath, index_col=0)\n",
    "    N = list(df.index.map(str))\n",
    "    M = list(df.columns.map(str))\n",
    "\n",
    "    d = {(n, m): df.at[n, m] for n in N for m in M}\n",
    "\n",
    "    return N, M, d\n",
    "\n",
    "\n",
    "breaking_point = 0\n",
    "\n",
    "\n",
    "def main():\n",
    "    dirpath = \"./data/test/\"\n",
    "    files = [fname for fname in os.listdir(dirpath) if fname.endswith('.xlsx') and 'WLp' in fname]\n",
    "\n",
    "    # min nbr of warehouses to be constructed\n",
    "    P = 2\n",
    "\n",
    "    for fName in files:\n",
    "        N, M, d = cost_2_wcl(dirpath + fName)\n",
    "\n",
    "        # Create the Pyomo model\n",
    "        model = create_warehouse_model(N, M, d, P)\n",
    "\n",
    "        # Create the solver interface and solve the model\n",
    "        solver_manager = pyo.SolverManagerFactory('neos')\n",
    "        res = solver_manager.solve(model, solver='cbc')\n",
    "        model.display()\n",
    "\n",
    "\n",
    "if __name__ == '__main__':\n",
    "    main()\n",
    "    breaking_point = 0\n"
   ],
   "metadata": {
    "collapsed": false,
    "pycharm": {
     "name": "#%%\n"
    }
   }
  },
  {
   "cell_type": "code",
   "execution_count": 3,
   "outputs": [],
   "source": [],
   "metadata": {
    "collapsed": false,
    "pycharm": {
     "name": "#%%\n"
    }
   }
  }
 ],
 "metadata": {
  "kernelspec": {
   "display_name": "Python 3",
   "language": "python",
   "name": "python3"
  },
  "language_info": {
   "codemirror_mode": {
    "name": "ipython",
    "version": 2
   },
   "file_extension": ".py",
   "mimetype": "text/x-python",
   "name": "python",
   "nbconvert_exporter": "python",
   "pygments_lexer": "ipython2",
   "version": "2.7.6"
  }
 },
 "nbformat": 4,
 "nbformat_minor": 0
}